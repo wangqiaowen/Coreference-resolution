{
 "cells": [
  {
   "cell_type": "markdown",
   "metadata": {},
   "source": [
    "# Coreference Resolution\n"
   ]
  },
  {
   "cell_type": "markdown",
   "metadata": {},
   "source": [
    "## Data preparation\n",
    "#### Read training data set and split it into train and evaluate part."
   ]
  },
  {
   "cell_type": "code",
   "execution_count": 42,
   "metadata": {},
   "outputs": [],
   "source": [
    "from sklearn.preprocessing import LabelEncoder\n",
    "from sklearn.model_selection import train_test_split\n",
    "from sklearn.preprocessing import OneHotEncoder\n",
    "import numpy as np\n",
    "import pandas as pd\n",
    "\n",
    "\n",
    "#label,distance,POS1,gramFct1,Case1,Gender1,Number1,POS2,gramFct2,Case2,Gender2,Number2,sameHead,samePOS,sameGramFct,matchOrNot,sameCase,sameGender,sameNumber\n",
    "df = (pd.read_csv('df_gold_std_all_18_12_with_case_and_gender_number.csv', \n",
    "                 header=0)\n",
    "        .replace({'?': 'unknown'}))  # NaN are represented by '?'\n",
    "#df=df.sample(frac=0.003)\n",
    "#print(df)\n",
    "X = df.drop(['no','label'], axis=1)#drop the 'label' and 'no' list.\n",
    "y = df['label'].copy() # use the column 'label' as target y.\n",
    "X_train, X_test, y_train, y_test = train_test_split(X, y, test_size=0.3, random_state=42)#split the dataset to train and evaluate set with a ratio of 7:3"
   ]
  },
  {
   "cell_type": "markdown",
   "metadata": {},
   "source": [
    "#### Read the extracted markable as test set "
   ]
  },
  {
   "cell_type": "code",
   "execution_count": 51,
   "metadata": {},
   "outputs": [
    {
     "data": {
      "text/plain": [
       "(      distance  POS1    gramFct1 Case1 Gender1 Number1   POS2    gramFct2  \\\n",
       " 0            0    NE       nsubj   Nom       0    Sing     NE       nsubj   \n",
       " 1            4    NE       nsubj   Nom     Fem    Sing   PPER  nsubj:pass   \n",
       " 2           21    NE       nsubj   Nom     Fem    Sing   PPER       nsubj   \n",
       " 3           18    NE        flat   Dat       0    Sing     NE        flat   \n",
       " 4            3    NN       nsubj   Nom    Neut    Plur  PRELS       nsubj   \n",
       " ...        ...   ...         ...   ...     ...     ...    ...         ...   \n",
       " 3352         2  PPER       nsubj   Nom     Fem    Sing     NE        conj   \n",
       " 3353        18    NN  nsubj:pass   Nom     Fem    Sing     NE         obl   \n",
       " 3354        13    NN  nsubj:pass   Nom     Fem    Sing     NE        conj   \n",
       " 3355        13    NE         obl   Acc    Neut    Sing     NE        conj   \n",
       " 3356        34   PDS       nsubj   Nom       0    Plur   PPER         obj   \n",
       " \n",
       "      Case2 Gender2 Number2  sameHead  samePOS  sameGramFct  matchOrNot  \\\n",
       " 0      Nom       0    Sing         1        1            1           1   \n",
       " 1      Nom     Fem    Sing         0        0            0           0   \n",
       " 2      Nom     Fem    Sing         0        0            1           0   \n",
       " 3      Dat       0    Sing         0        1            1           0   \n",
       " 4      Nom       0    Plur         0        0            1           0   \n",
       " ...    ...     ...     ...       ...      ...          ...         ...   \n",
       " 3352   Acc    Neut    Sing         0        0            0           0   \n",
       " 3353   Acc    Neut    Sing         1        0            0           0   \n",
       " 3354   Acc    Neut    Sing         0        0            0           0   \n",
       " 3355   Acc    Neut    Sing         0        1            0           1   \n",
       " 3356   Acc       0    Plur         1        0            0           0   \n",
       " \n",
       "       sameCase  sameGender  sameNumber  \n",
       " 0            1           1           1  \n",
       " 1            1           1           1  \n",
       " 2            1           1           1  \n",
       " 3            0           1           1  \n",
       " 4            1           0           1  \n",
       " ...        ...         ...         ...  \n",
       " 3352         0           0           1  \n",
       " 3353         0           0           1  \n",
       " 3354         0           0           1  \n",
       " 3355         1           1           1  \n",
       " 3356         0           1           1  \n",
       " \n",
       " [3357 rows x 18 columns], 0       1\n",
       " 1       1\n",
       " 2       1\n",
       " 3       1\n",
       " 4       1\n",
       "        ..\n",
       " 3352    0\n",
       " 3353    0\n",
       " 3354    0\n",
       " 3355    0\n",
       " 3356    0\n",
       " Name: label, Length: 3357, dtype: int64)"
      ]
     },
     "execution_count": 51,
     "metadata": {},
     "output_type": "execute_result"
    }
   ],
   "source": [
    "from sklearn.preprocessing import LabelEncoder\n",
    "from sklearn.model_selection import train_test_split\n",
    "from sklearn.preprocessing import OneHotEncoder\n",
    "import numpy as np\n",
    "import pandas as pd\n",
    "\n",
    "#label,distance,POS1,gramFct1,Case1,Gender1,POS2,gramFct2,Case2,Gender2,sameHead,samePOS,sameGramFct,matchOrNot,sameCase,sameGender\n",
    "df1 = (pd.read_csv('test_data_with_case_and_gender_number.csv', \n",
    "                 header=0)\n",
    "        .replace({'?': 'unknown'}))  # NaN are represented by '?'\n",
    "#df1=df1.sample(frac=0.1) #shuffle the data and get a 1/10 subset\n",
    "X_te = df1.drop(['no','label'], axis=1)\n",
    "y_te = df1['label'].copy()\n",
    "X_te,y_te\n"
   ]
  },
  {
   "cell_type": "markdown",
   "metadata": {},
   "source": [
    "#### data details and distribution "
   ]
  },
  {
   "cell_type": "code",
   "execution_count": 52,
   "metadata": {},
   "outputs": [
    {
     "name": "stdout",
     "output_type": "stream",
     "text": [
      "<class 'pandas.core.frame.DataFrame'>\n",
      "RangeIndex: 403634 entries, 0 to 403633\n",
      "Data columns (total 20 columns):\n",
      "no             403634 non-null int64\n",
      "label          403634 non-null int64\n",
      "distance       403634 non-null int64\n",
      "POS1           403634 non-null object\n",
      "gramFct1       403634 non-null object\n",
      "Case1          403634 non-null object\n",
      "Gender1        403634 non-null object\n",
      "Number1        403634 non-null object\n",
      "POS2           403634 non-null object\n",
      "gramFct2       403634 non-null object\n",
      "Case2          403634 non-null object\n",
      "Gender2        403634 non-null object\n",
      "Number2        403634 non-null object\n",
      "sameHead       403634 non-null int64\n",
      "samePOS        403634 non-null int64\n",
      "sameGramFct    403634 non-null int64\n",
      "matchOrNot     403634 non-null int64\n",
      "sameCase       403634 non-null int64\n",
      "sameGender     403634 non-null int64\n",
      "sameNumber     403634 non-null int64\n",
      "dtypes: int64(10), object(10)\n",
      "memory usage: 61.6+ MB\n"
     ]
    }
   ],
   "source": [
    "df.info()\n",
    "#df1.info()"
   ]
  },
  {
   "cell_type": "code",
   "execution_count": 53,
   "metadata": {},
   "outputs": [
    {
     "data": {
      "text/plain": [
       "0    323997\n",
       "1     79637\n",
       "Name: label, dtype: int64"
      ]
     },
     "execution_count": 53,
     "metadata": {},
     "output_type": "execute_result"
    }
   ],
   "source": [
    "df['label'].value_counts()#see the distrubution of y"
   ]
  },
  {
   "cell_type": "code",
   "execution_count": 54,
   "metadata": {},
   "outputs": [
    {
     "data": {
      "text/plain": [
       "array([[<matplotlib.axes._subplots.AxesSubplot object at 0x0000018A8FB34C88>,\n",
       "        <matplotlib.axes._subplots.AxesSubplot object at 0x0000018A9CCDFE08>,\n",
       "        <matplotlib.axes._subplots.AxesSubplot object at 0x0000018A9678D588>],\n",
       "       [<matplotlib.axes._subplots.AxesSubplot object at 0x0000018A967A6248>,\n",
       "        <matplotlib.axes._subplots.AxesSubplot object at 0x0000018A9D526DC8>,\n",
       "        <matplotlib.axes._subplots.AxesSubplot object at 0x0000018A961E4608>],\n",
       "       [<matplotlib.axes._subplots.AxesSubplot object at 0x0000018A95E29C88>,\n",
       "        <matplotlib.axes._subplots.AxesSubplot object at 0x0000018A95F62608>,\n",
       "        <matplotlib.axes._subplots.AxesSubplot object at 0x0000018A92947D08>]],\n",
       "      dtype=object)"
      ]
     },
     "execution_count": 54,
     "metadata": {},
     "output_type": "execute_result"
    },
    {
     "data": {
      "image/png": "[encoded data removed]",
      "text/plain": [
       "<Figure size 1440x1080 with 9 Axes>"
      ]
     },
     "metadata": {
      "needs_background": "light"
     },
     "output_type": "display_data"
    },
    {
     "data": {
      "image/png": "[encoded data removed]",
      "text/plain": [
       "<Figure size 1440x1080 with 9 Axes>"
      ]
     },
     "metadata": {
      "needs_background": "light"
     },
     "output_type": "display_data"
    }
   ],
   "source": [
    "import matplotlib.pyplot as plt\n",
    "df=df.drop(columns=['no'])\n",
    "df1=df1.drop(columns=['no'])\n",
    "df.hist(bins=50,figsize=(20,15))# plot the distrabution of all the matching features in training dataset.\n",
    "df1.hist(bins=50,figsize=(20,15))# plot the distrabution of all the matching features in testing dataset."
   ]
  },
  {
   "cell_type": "code",
   "execution_count": 55,
   "metadata": {},
   "outputs": [
    {
     "data": {
      "text/html": [
       "<div>\n",
       "<style scoped>\n",
       "    .dataframe tbody tr th:only-of-type {\n",
       "        vertical-align: middle;\n",
       "    }\n",
       "\n",
       "    .dataframe tbody tr th {\n",
       "        vertical-align: top;\n",
       "    }\n",
       "\n",
       "    .dataframe thead th {\n",
       "        text-align: right;\n",
       "    }\n",
       "</style>\n",
       "<table border=\"1\" class=\"dataframe\">\n",
       "  <thead>\n",
       "    <tr style=\"text-align: right;\">\n",
       "      <th></th>\n",
       "      <th>label</th>\n",
       "      <th>distance</th>\n",
       "      <th>sameHead</th>\n",
       "      <th>samePOS</th>\n",
       "      <th>sameGramFct</th>\n",
       "      <th>matchOrNot</th>\n",
       "      <th>sameCase</th>\n",
       "      <th>sameGender</th>\n",
       "      <th>sameNumber</th>\n",
       "    </tr>\n",
       "  </thead>\n",
       "  <tbody>\n",
       "    <tr>\n",
       "      <td>count</td>\n",
       "      <td>403634.000000</td>\n",
       "      <td>403634.000000</td>\n",
       "      <td>403634.000000</td>\n",
       "      <td>403634.000000</td>\n",
       "      <td>403634.000000</td>\n",
       "      <td>403634.000000</td>\n",
       "      <td>403634.000000</td>\n",
       "      <td>403634.000000</td>\n",
       "      <td>403634.000000</td>\n",
       "    </tr>\n",
       "    <tr>\n",
       "      <td>mean</td>\n",
       "      <td>0.197300</td>\n",
       "      <td>18.563416</td>\n",
       "      <td>0.139708</td>\n",
       "      <td>0.265377</td>\n",
       "      <td>0.172852</td>\n",
       "      <td>0.101424</td>\n",
       "      <td>0.335398</td>\n",
       "      <td>0.394551</td>\n",
       "      <td>0.711979</td>\n",
       "    </tr>\n",
       "    <tr>\n",
       "      <td>std</td>\n",
       "      <td>0.397961</td>\n",
       "      <td>59.142225</td>\n",
       "      <td>0.346685</td>\n",
       "      <td>0.441534</td>\n",
       "      <td>0.378120</td>\n",
       "      <td>0.301889</td>\n",
       "      <td>0.472130</td>\n",
       "      <td>0.488755</td>\n",
       "      <td>0.452841</td>\n",
       "    </tr>\n",
       "    <tr>\n",
       "      <td>min</td>\n",
       "      <td>0.000000</td>\n",
       "      <td>-1.000000</td>\n",
       "      <td>0.000000</td>\n",
       "      <td>0.000000</td>\n",
       "      <td>0.000000</td>\n",
       "      <td>0.000000</td>\n",
       "      <td>0.000000</td>\n",
       "      <td>0.000000</td>\n",
       "      <td>0.000000</td>\n",
       "    </tr>\n",
       "    <tr>\n",
       "      <td>25%</td>\n",
       "      <td>0.000000</td>\n",
       "      <td>3.000000</td>\n",
       "      <td>0.000000</td>\n",
       "      <td>0.000000</td>\n",
       "      <td>0.000000</td>\n",
       "      <td>0.000000</td>\n",
       "      <td>0.000000</td>\n",
       "      <td>0.000000</td>\n",
       "      <td>0.000000</td>\n",
       "    </tr>\n",
       "    <tr>\n",
       "      <td>50%</td>\n",
       "      <td>0.000000</td>\n",
       "      <td>8.000000</td>\n",
       "      <td>0.000000</td>\n",
       "      <td>0.000000</td>\n",
       "      <td>0.000000</td>\n",
       "      <td>0.000000</td>\n",
       "      <td>0.000000</td>\n",
       "      <td>0.000000</td>\n",
       "      <td>1.000000</td>\n",
       "    </tr>\n",
       "    <tr>\n",
       "      <td>75%</td>\n",
       "      <td>0.000000</td>\n",
       "      <td>16.000000</td>\n",
       "      <td>0.000000</td>\n",
       "      <td>1.000000</td>\n",
       "      <td>0.000000</td>\n",
       "      <td>0.000000</td>\n",
       "      <td>1.000000</td>\n",
       "      <td>1.000000</td>\n",
       "      <td>1.000000</td>\n",
       "    </tr>\n",
       "    <tr>\n",
       "      <td>max</td>\n",
       "      <td>1.000000</td>\n",
       "      <td>3695.000000</td>\n",
       "      <td>1.000000</td>\n",
       "      <td>1.000000</td>\n",
       "      <td>1.000000</td>\n",
       "      <td>1.000000</td>\n",
       "      <td>1.000000</td>\n",
       "      <td>1.000000</td>\n",
       "      <td>1.000000</td>\n",
       "    </tr>\n",
       "  </tbody>\n",
       "</table>\n",
       "</div>"
      ],
      "text/plain": [
       "               label       distance       sameHead        samePOS  \\\n",
       "count  403634.000000  403634.000000  403634.000000  403634.000000   \n",
       "mean        0.197300      18.563416       0.139708       0.265377   \n",
       "std         0.397961      59.142225       0.346685       0.441534   \n",
       "min         0.000000      -1.000000       0.000000       0.000000   \n",
       "25%         0.000000       3.000000       0.000000       0.000000   \n",
       "50%         0.000000       8.000000       0.000000       0.000000   \n",
       "75%         0.000000      16.000000       0.000000       1.000000   \n",
       "max         1.000000    3695.000000       1.000000       1.000000   \n",
       "\n",
       "         sameGramFct     matchOrNot       sameCase     sameGender  \\\n",
       "count  403634.000000  403634.000000  403634.000000  403634.000000   \n",
       "mean        0.172852       0.101424       0.335398       0.394551   \n",
       "std         0.378120       0.301889       0.472130       0.488755   \n",
       "min         0.000000       0.000000       0.000000       0.000000   \n",
       "25%         0.000000       0.000000       0.000000       0.000000   \n",
       "50%         0.000000       0.000000       0.000000       0.000000   \n",
       "75%         0.000000       0.000000       1.000000       1.000000   \n",
       "max         1.000000       1.000000       1.000000       1.000000   \n",
       "\n",
       "          sameNumber  \n",
       "count  403634.000000  \n",
       "mean        0.711979  \n",
       "std         0.452841  \n",
       "min         0.000000  \n",
       "25%         0.000000  \n",
       "50%         1.000000  \n",
       "75%         1.000000  \n",
       "max         1.000000  "
      ]
     },
     "execution_count": 55,
     "metadata": {},
     "output_type": "execute_result"
    }
   ],
   "source": [
    "df.describe()"
   ]
  },
  {
   "cell_type": "code",
   "execution_count": 56,
   "metadata": {},
   "outputs": [
    {
     "data": {
      "text/plain": [
       "label          1.000000\n",
       "distance       0.313996\n",
       "sameGender     0.258394\n",
       "sameNumber     0.149548\n",
       "matchOrNot     0.128472\n",
       "sameGramFct    0.078840\n",
       "sameCase       0.071427\n",
       "samePOS        0.070431\n",
       "sameHead      -0.119450\n",
       "Name: label, dtype: float64"
      ]
     },
     "execution_count": 56,
     "metadata": {},
     "output_type": "execute_result"
    }
   ],
   "source": [
    "corr_matrix=df.corr()\n",
    "\n",
    "corr_matrix[\"label\"].sort_values(ascending=False) #find the correlate metrics of  label in training set"
   ]
  },
  {
   "cell_type": "code",
   "execution_count": 57,
   "metadata": {},
   "outputs": [
    {
     "data": {
      "text/plain": [
       "label          1.000000\n",
       "sameGender     0.415278\n",
       "sameGramFct    0.321989\n",
       "sameNumber     0.280074\n",
       "matchOrNot     0.258656\n",
       "sameCase       0.213792\n",
       "sameHead       0.149504\n",
       "samePOS        0.036229\n",
       "distance      -0.066575\n",
       "Name: label, dtype: float64"
      ]
     },
     "execution_count": 57,
     "metadata": {},
     "output_type": "execute_result"
    }
   ],
   "source": [
    "corr_matrix1=df1.corr()\n",
    "corr_matrix1[\"label\"].sort_values(ascending=False)#find the correlate metrics of labels in testing set"
   ]
  },
  {
   "cell_type": "markdown",
   "metadata": {},
   "source": [
    "# Data preprocessing \n",
    "## Label encoding\n",
    "### transfer the columns(features) into numeric metrics"
   ]
  },
  {
   "cell_type": "code",
   "execution_count": 58,
   "metadata": {},
   "outputs": [],
   "source": [
    "class MultiColumnLabelEncoder:\n",
    "    \n",
    "    def __init__(self, columns = None):\n",
    "        self.columns = columns # list of column to encode\n",
    "\t\n",
    "    def fit(self, X, y=None):\n",
    "        return self\n",
    "\t\n",
    "    def transform(self, X):\n",
    "        '''\n",
    "        Transforms columns of X specified in self.columns using\n",
    "        LabelEncoder(). If no columns specified, transforms all\n",
    "        columns in X.\n",
    "        '''\n",
    "        \n",
    "        output = X.copy()\n",
    "        \n",
    "        if self.columns is not None:\n",
    "            for col in self.columns:\n",
    "                output[col] = LabelEncoder().fit_transform(output[col])\n",
    "        else:\n",
    "            for colname, col in output.iteritems():\n",
    "                output[colname] = LabelEncoder().fit_transform(col)\n",
    "        \n",
    "        return output\n",
    "\t\n",
    "    def fit_transform(self, X, y=None):\n",
    "        return self.fit(X, y).transform(X)"
   ]
  },
  {
   "cell_type": "code",
   "execution_count": 59,
   "metadata": {},
   "outputs": [
    {
     "data": {
      "text/html": [
       "<div>\n",
       "<style scoped>\n",
       "    .dataframe tbody tr th:only-of-type {\n",
       "        vertical-align: middle;\n",
       "    }\n",
       "\n",
       "    .dataframe tbody tr th {\n",
       "        vertical-align: top;\n",
       "    }\n",
       "\n",
       "    .dataframe thead th {\n",
       "        text-align: right;\n",
       "    }\n",
       "</style>\n",
       "<table border=\"1\" class=\"dataframe\">\n",
       "  <thead>\n",
       "    <tr style=\"text-align: right;\">\n",
       "      <th></th>\n",
       "      <th>distance</th>\n",
       "      <th>POS1</th>\n",
       "      <th>gramFct1</th>\n",
       "      <th>Case1</th>\n",
       "      <th>Gender1</th>\n",
       "      <th>Number1</th>\n",
       "      <th>POS2</th>\n",
       "      <th>gramFct2</th>\n",
       "      <th>Case2</th>\n",
       "      <th>Gender2</th>\n",
       "      <th>Number2</th>\n",
       "      <th>sameHead</th>\n",
       "      <th>samePOS</th>\n",
       "      <th>sameGramFct</th>\n",
       "      <th>matchOrNot</th>\n",
       "      <th>sameCase</th>\n",
       "      <th>sameGender</th>\n",
       "      <th>sameNumber</th>\n",
       "    </tr>\n",
       "  </thead>\n",
       "  <tbody>\n",
       "    <tr>\n",
       "      <td>257454</td>\n",
       "      <td>0</td>\n",
       "      <td>13</td>\n",
       "      <td>22</td>\n",
       "      <td>4</td>\n",
       "      <td>1</td>\n",
       "      <td>2</td>\n",
       "      <td>13</td>\n",
       "      <td>22</td>\n",
       "      <td>4</td>\n",
       "      <td>1</td>\n",
       "      <td>2</td>\n",
       "      <td>1</td>\n",
       "      <td>1</td>\n",
       "      <td>1</td>\n",
       "      <td>1</td>\n",
       "      <td>1</td>\n",
       "      <td>1</td>\n",
       "      <td>1</td>\n",
       "    </tr>\n",
       "    <tr>\n",
       "      <td>392476</td>\n",
       "      <td>8</td>\n",
       "      <td>3</td>\n",
       "      <td>5</td>\n",
       "      <td>2</td>\n",
       "      <td>3</td>\n",
       "      <td>2</td>\n",
       "      <td>13</td>\n",
       "      <td>22</td>\n",
       "      <td>4</td>\n",
       "      <td>1</td>\n",
       "      <td>2</td>\n",
       "      <td>0</td>\n",
       "      <td>0</td>\n",
       "      <td>0</td>\n",
       "      <td>0</td>\n",
       "      <td>0</td>\n",
       "      <td>0</td>\n",
       "      <td>1</td>\n",
       "    </tr>\n",
       "    <tr>\n",
       "      <td>57628</td>\n",
       "      <td>11</td>\n",
       "      <td>20</td>\n",
       "      <td>18</td>\n",
       "      <td>2</td>\n",
       "      <td>0</td>\n",
       "      <td>1</td>\n",
       "      <td>20</td>\n",
       "      <td>26</td>\n",
       "      <td>1</td>\n",
       "      <td>0</td>\n",
       "      <td>1</td>\n",
       "      <td>1</td>\n",
       "      <td>1</td>\n",
       "      <td>0</td>\n",
       "      <td>0</td>\n",
       "      <td>0</td>\n",
       "      <td>1</td>\n",
       "      <td>1</td>\n",
       "    </tr>\n",
       "    <tr>\n",
       "      <td>230075</td>\n",
       "      <td>16</td>\n",
       "      <td>13</td>\n",
       "      <td>18</td>\n",
       "      <td>2</td>\n",
       "      <td>2</td>\n",
       "      <td>2</td>\n",
       "      <td>9</td>\n",
       "      <td>24</td>\n",
       "      <td>0</td>\n",
       "      <td>0</td>\n",
       "      <td>0</td>\n",
       "      <td>0</td>\n",
       "      <td>0</td>\n",
       "      <td>0</td>\n",
       "      <td>0</td>\n",
       "      <td>0</td>\n",
       "      <td>0</td>\n",
       "      <td>0</td>\n",
       "    </tr>\n",
       "    <tr>\n",
       "      <td>234946</td>\n",
       "      <td>11</td>\n",
       "      <td>14</td>\n",
       "      <td>22</td>\n",
       "      <td>4</td>\n",
       "      <td>2</td>\n",
       "      <td>1</td>\n",
       "      <td>24</td>\n",
       "      <td>22</td>\n",
       "      <td>4</td>\n",
       "      <td>1</td>\n",
       "      <td>2</td>\n",
       "      <td>0</td>\n",
       "      <td>0</td>\n",
       "      <td>1</td>\n",
       "      <td>0</td>\n",
       "      <td>1</td>\n",
       "      <td>0</td>\n",
       "      <td>0</td>\n",
       "    </tr>\n",
       "  </tbody>\n",
       "</table>\n",
       "</div>"
      ],
      "text/plain": [
       "        distance  POS1  gramFct1  Case1  Gender1  Number1  POS2  gramFct2  \\\n",
       "257454         0    13        22      4        1        2    13        22   \n",
       "392476         8     3         5      2        3        2    13        22   \n",
       "57628         11    20        18      2        0        1    20        26   \n",
       "230075        16    13        18      2        2        2     9        24   \n",
       "234946        11    14        22      4        2        1    24        22   \n",
       "\n",
       "        Case2  Gender2  Number2  sameHead  samePOS  sameGramFct  matchOrNot  \\\n",
       "257454      4        1        2         1        1            1           1   \n",
       "392476      4        1        2         0        0            0           0   \n",
       "57628       1        0        1         1        1            0           0   \n",
       "230075      0        0        0         0        0            0           0   \n",
       "234946      4        1        2         0        0            1           0   \n",
       "\n",
       "        sameCase  sameGender  sameNumber  \n",
       "257454         1           1           1  \n",
       "392476         0           0           1  \n",
       "57628          0           1           1  \n",
       "230075         0           0           0  \n",
       "234946         1           0           0  "
      ]
     },
     "execution_count": 59,
     "metadata": {},
     "output_type": "execute_result"
    }
   ],
   "source": [
    "le = MultiColumnLabelEncoder(columns=['POS1','gramFct1','Case1','Gender1','Number1','POS2','gramFct2','gramFct2','Case2','Gender2','Number2'])\n",
    "X_train_le = le.fit_transform(X_train)\n",
    "X_train_le.head()"
   ]
  },
  {
   "cell_type": "markdown",
   "metadata": {},
   "source": [
    "## one hot encoding of each features\n",
    "### encode transfer the training set with one hot format "
   ]
  },
  {
   "cell_type": "code",
   "execution_count": 60,
   "metadata": {},
   "outputs": [
    {
     "data": {
      "text/plain": [
       "<282543x1108 sparse matrix of type '<class 'numpy.float64'>'\n",
       "\twith 5085774 stored elements in Compressed Sparse Row format>"
      ]
     },
     "execution_count": 60,
     "metadata": {},
     "output_type": "execute_result"
    }
   ],
   "source": [
    "ohe = OneHotEncoder(sparse=True , handle_unknown='ignore')\n",
    "X_train_ohe = ohe.fit_transform(X_train_le)\n",
    "X_train_ohe"
   ]
  },
  {
   "cell_type": "markdown",
   "metadata": {},
   "source": [
    "# Model training\n",
    "\n",
    "## SGD"
   ]
  },
  {
   "cell_type": "code",
   "execution_count": 69,
   "metadata": {},
   "outputs": [
    {
     "data": {
      "text/plain": [
       "SGDClassifier(alpha=0.0001, average=False, class_weight=None,\n",
       "              early_stopping=False, epsilon=0.1, eta0=0.0, fit_intercept=True,\n",
       "              l1_ratio=0.15, learning_rate='optimal', loss='hinge',\n",
       "              max_iter=100, n_iter_no_change=5, n_jobs=None, penalty='l2',\n",
       "              power_t=0.5, random_state=42, shuffle=True, tol=0.001,\n",
       "              validation_fraction=0.1, verbose=0, warm_start=False)"
      ]
     },
     "execution_count": 69,
     "metadata": {},
     "output_type": "execute_result"
    }
   ],
   "source": [
    "from sklearn.linear_model import SGDClassifier\n",
    "sgd=SGDClassifier(random_state=42,max_iter=100)\n",
    "sgd.fit(X_train_ohe,y_train)"
   ]
  },
  {
   "cell_type": "markdown",
   "metadata": {},
   "source": [
    "### Evaluation with SGD"
   ]
  },
  {
   "cell_type": "code",
   "execution_count": 70,
   "metadata": {},
   "outputs": [
    {
     "data": {
      "text/plain": [
       "(array([0.87439614, 0.87369421, 0.87893303, 0.86832108, 0.87504645]),\n",
       " array([0.86904762, 0.86011905, 0.89269747, 0.88077496, 0.88822653]))"
      ]
     },
     "execution_count": 70,
     "metadata": {},
     "output_type": "execute_result"
    }
   ],
   "source": [
    "from sklearn.model_selection import cross_val_score\n",
    "\n",
    "#transform the input(X) in evaluating and testing data to an approprate way for SGD\n",
    "X_test_le = le.transform(X_test)\n",
    "X_test_ohe = ohe.transform(X_test_le)\n",
    "X_te_le = le.transform(X_te)\n",
    "X_te_ohe = ohe.transform(X_te_le)\n",
    "\n",
    "#calculate the accuracy of sgd classifier of both data set\n",
    "scores1 = cross_val_score(sgd,X_test_ohe,y_test,scoring='accuracy',cv=5) \n",
    "scores2=cross_val_score(sgd,X_te_ohe,y_te,scoring='accuracy',cv=5) \n",
    "scores1,scores2"
   ]
  },
  {
   "cell_type": "markdown",
   "metadata": {},
   "source": [
    "### Test on SGD \n",
    "#### Test with precision, recall and f1 score"
   ]
  },
  {
   "cell_type": "code",
   "execution_count": 63,
   "metadata": {},
   "outputs": [
    {
     "name": "stdout",
     "output_type": "stream",
     "text": [
      "Evaluate results on training set\n",
      "0.7958779884583677 0.4052556460414743 0.5370493991989319\n",
      "Test results on generated markable\n",
      "0.29365079365079366 0.03737373737373737 0.06630824372759857\n"
     ]
    }
   ],
   "source": [
    "from sklearn.metrics import precision_score\n",
    "from sklearn.metrics import recall_score\n",
    "from sklearn.metrics import f1_score \n",
    "\n",
    "\n",
    "print(\"Evaluate results on training set\")\n",
    "y_eva=sgd.predict(X_test_ohe)\n",
    "print(precision_score(y_test,y_eva), recall_score(y_test,y_eva), f1_score(y_test,y_eva))\n",
    "print(\"Test results on generated markable\")\n",
    "y_te_predict=sgd.predict(X_te_ohe)\n",
    "print(precision_score(y_te,y_te_predict), recall_score(y_te,y_te_predict), f1_score(y_te,y_te_predict))"
   ]
  },
  {
   "cell_type": "markdown",
   "metadata": {},
   "source": [
    "## Decision Tree"
   ]
  },
  {
   "cell_type": "code",
   "execution_count": 64,
   "metadata": {},
   "outputs": [
    {
     "name": "stdout",
     "output_type": "stream",
     "text": [
      "Evaluation score:\n"
     ]
    },
    {
     "data": {
      "text/plain": [
       "(0.39978448275862066, 0.3747474747474748, 0.38686131386861317)"
      ]
     },
     "execution_count": 64,
     "metadata": {},
     "output_type": "execute_result"
    }
   ],
   "source": [
    "from sklearn import tree\n",
    "\n",
    "clf = tree.DecisionTreeClassifier(criterion=\"entropy\")\n",
    "clf = clf.fit(X_train_ohe,y_train)\n",
    "\n",
    "y_test_predict=clf.predict(X_te_ohe)\n",
    "print(\"Evaluation score:\")\n",
    "precision_score(y_te,y_test_predict), recall_score(y_te,y_test_predict), f1_score(y_te,y_test_predict)"
   ]
  },
  {
   "cell_type": "markdown",
   "metadata": {},
   "source": [
    "## Naive Bayes"
   ]
  },
  {
   "cell_type": "code",
   "execution_count": 65,
   "metadata": {},
   "outputs": [
    {
     "data": {
      "text/plain": [
       "(0.48655256723716384, 0.402020202020202, 0.44026548672566373)"
      ]
     },
     "execution_count": 65,
     "metadata": {},
     "output_type": "execute_result"
    }
   ],
   "source": [
    "from sklearn.naive_bayes import BernoulliNB\n",
    "\n",
    "clf = BernoulliNB()\n",
    "clf = clf.fit(X_train_ohe,y_train)\n",
    "\n",
    "y_test_predict=clf.predict(X_te_ohe)\n",
    "\n",
    "precision_score(y_te,y_test_predict), recall_score(y_te,y_test_predict), f1_score(y_te,y_test_predict)"
   ]
  },
  {
   "cell_type": "markdown",
   "metadata": {},
   "source": [
    "##  Logistic Regression"
   ]
  },
  {
   "cell_type": "code",
   "execution_count": 66,
   "metadata": {},
   "outputs": [
    {
     "data": {
      "text/plain": [
       "(0.13953488372093023, 0.024242424242424242, 0.04130808950086059)"
      ]
     },
     "execution_count": 66,
     "metadata": {},
     "output_type": "execute_result"
    }
   ],
   "source": [
    "from sklearn.linear_model import LogisticRegression\n",
    "\n",
    "clf = LogisticRegression(C=1000.0, solver= 'liblinear', random_state=0)\n",
    "clf.fit(X_train_ohe, y_train)\n",
    "\n",
    "y_test_predict=clf.predict(X_te_ohe)\n",
    "\n",
    "precision_score(y_te,y_test_predict), recall_score(y_te,y_test_predict), f1_score(y_te,y_test_predict)"
   ]
  },
  {
   "cell_type": "markdown",
   "metadata": {},
   "source": [
    "## Perceptron"
   ]
  },
  {
   "cell_type": "code",
   "execution_count": 67,
   "metadata": {},
   "outputs": [
    {
     "data": {
      "text/plain": [
       "(0.2861736334405145, 0.1797979797979798, 0.22084367245657568)"
      ]
     },
     "execution_count": 67,
     "metadata": {},
     "output_type": "execute_result"
    }
   ],
   "source": [
    "from sklearn.linear_model import Perceptron\n",
    "\n",
    "clf = Perceptron(tol=1e-5, random_state=0)\n",
    "\n",
    "clf.fit(X_train_ohe, y_train)\n",
    "\n",
    "y_test_predict=clf.predict(X_te_ohe)\n",
    "\n",
    "precision_score(y_te,y_test_predict), recall_score(y_te,y_test_predict), f1_score(y_te,y_test_predict)"
   ]
  },
  {
   "cell_type": "markdown",
   "metadata": {},
   "source": [
    "## Multi-Layer-Perceptron"
   ]
  },
  {
   "cell_type": "markdown",
   "metadata": {},
   "source": [
    "### parameter tuning: gridsearch"
   ]
  },
  {
   "cell_type": "code",
   "execution_count": null,
   "metadata": {},
   "outputs": [
    {
     "name": "stdout",
     "output_type": "stream",
     "text": [
      "Fitting 5 folds for each of 1 candidates, totalling 5 fits\n"
     ]
    },
    {
     "name": "stderr",
     "output_type": "stream",
     "text": [
      "[Parallel(n_jobs=-1)]: Using backend LokyBackend with 8 concurrent workers.\n"
     ]
    }
   ],
   "source": [
    "from sklearn import svm\n",
    "from sklearn.model_selection import GridSearchCV\n",
    "from sklearn.neural_network import MLPClassifier\n",
    "from sklearn.pipeline import Pipeline\n",
    "\n",
    "\n",
    "def svc_param_selection(X, y, nfolds):\n",
    "    Cs = [0.01, 0.1, 1, 10]\n",
    "    gammas = [0.01, 0.1, 1]\n",
    "    param_grid = {'C': Cs, 'gamma' : gammas}\n",
    "    grid_search = GridSearchCV(svm.SVC(kernel='rbf'), param_grid, cv=nfolds, n_jobs=-1)\n",
    "    grid_search.fit(X, y)\n",
    "    grid_search.best_params_\n",
    "    return grid_search.best_params_\n",
    "def mlp_param_selection(X,y,nfolds):\n",
    "    mlp =MLPClassifier()\n",
    "    param_grid={\n",
    "       'hidden_layer_sizes':[(100, 100), (50,50), (100,)],\n",
    "       'activations':['logistic', 'tanh', 'relu'],\n",
    "        'solvers': ['adam'],\n",
    "       'alphas': [0.0001, 0.001],\n",
    "        'learning_rates':['constant', 'invscaling', 'adaptive'],\n",
    "        'max_iters':[100, 200, 300],\n",
    "    }\n",
    "    mlp_g = GridSearchCV(mlp, param_grid, cv=nfolds, n_jobs=-1, verbose=1)\n",
    "    mlp_g.fit(X, y)\n",
    "    grid_search.best_params_\n",
    "    return grid_search.best_params_\n",
    "#p=svc_param_selection(X_train_ohe,y_train,2)\n",
    "m=mlp_param_selection(X_train_ohe,y_train,5)"
   ]
  },
  {
   "cell_type": "markdown",
   "metadata": {},
   "source": [
    "### MLP training and testing "
   ]
  },
  {
   "cell_type": "code",
   "execution_count": 68,
   "metadata": {},
   "outputs": [
    {
     "name": "stdout",
     "output_type": "stream",
     "text": [
      "Iteration 1, loss = 0.27578892\n",
      "Iteration 2, loss = 0.22494391\n",
      "Iteration 3, loss = 0.21233261\n",
      "Iteration 4, loss = 0.20284774\n",
      "Iteration 5, loss = 0.19511146\n",
      "Iteration 6, loss = 0.18804923\n",
      "Iteration 7, loss = 0.18187548\n",
      "Iteration 8, loss = 0.17618617\n",
      "Iteration 9, loss = 0.17106811\n",
      "Iteration 10, loss = 0.16610981\n",
      "Iteration 11, loss = 0.16128495\n",
      "Iteration 12, loss = 0.15642207\n",
      "Iteration 13, loss = 0.15197854\n",
      "Iteration 14, loss = 0.14790045\n",
      "Iteration 15, loss = 0.14390398\n",
      "Iteration 16, loss = 0.13935871\n",
      "Iteration 17, loss = 0.13626575\n",
      "Iteration 18, loss = 0.13232528\n",
      "Iteration 19, loss = 0.12945024\n",
      "Iteration 20, loss = 0.12615267\n",
      "Iteration 21, loss = 0.12284962\n",
      "Iteration 22, loss = 0.12001398\n",
      "Iteration 23, loss = 0.11714512\n",
      "Iteration 24, loss = 0.11420103\n",
      "Iteration 25, loss = 0.11188780\n",
      "Iteration 26, loss = 0.10970814\n",
      "Iteration 27, loss = 0.10679606\n",
      "Iteration 28, loss = 0.10464124\n",
      "Iteration 29, loss = 0.10222781\n",
      "Iteration 30, loss = 0.10037747\n",
      "Iteration 31, loss = 0.09829679\n",
      "Iteration 32, loss = 0.09633406\n",
      "Iteration 33, loss = 0.09511901\n",
      "Iteration 34, loss = 0.09216498\n",
      "Iteration 35, loss = 0.09136404\n",
      "Iteration 36, loss = 0.08992945\n",
      "Iteration 37, loss = 0.08717099\n",
      "Iteration 38, loss = 0.08701088\n",
      "Iteration 39, loss = 0.08486056\n",
      "Iteration 40, loss = 0.08425291\n",
      "Iteration 41, loss = 0.08252494\n",
      "Iteration 42, loss = 0.08154591\n",
      "Iteration 43, loss = 0.08054902\n",
      "Iteration 44, loss = 0.07894874\n",
      "Iteration 45, loss = 0.07868561\n",
      "Iteration 46, loss = 0.07761260\n",
      "Iteration 47, loss = 0.07606653\n",
      "Iteration 48, loss = 0.07539496\n",
      "Iteration 49, loss = 0.07481354\n",
      "Iteration 50, loss = 0.07357239\n",
      "Iteration 51, loss = 0.07267245\n",
      "Iteration 52, loss = 0.07216244\n",
      "Iteration 53, loss = 0.07190091\n",
      "Iteration 54, loss = 0.07081460\n",
      "Iteration 55, loss = 0.07022004\n",
      "Iteration 56, loss = 0.06981000\n",
      "Iteration 57, loss = 0.06923771\n",
      "Iteration 58, loss = 0.06853270\n",
      "Iteration 59, loss = 0.06870270\n",
      "Iteration 60, loss = 0.06786892\n",
      "Iteration 61, loss = 0.06707712\n",
      "Iteration 62, loss = 0.06721997\n",
      "Iteration 63, loss = 0.06669174\n",
      "Iteration 64, loss = 0.06603862\n",
      "Iteration 65, loss = 0.06570270\n",
      "Iteration 66, loss = 0.06509771\n",
      "Iteration 67, loss = 0.06512166\n",
      "Iteration 68, loss = 0.06461211\n",
      "Iteration 69, loss = 0.06477752\n",
      "Iteration 70, loss = 0.06441120\n",
      "Iteration 71, loss = 0.06371289\n",
      "Iteration 72, loss = 0.06387771\n",
      "Iteration 73, loss = 0.06268507\n",
      "Iteration 74, loss = 0.06299142\n",
      "Iteration 75, loss = 0.06239702\n",
      "Iteration 76, loss = 0.06267915\n",
      "Iteration 77, loss = 0.06213195\n",
      "Iteration 78, loss = 0.06204639\n",
      "Iteration 79, loss = 0.06181742\n",
      "Iteration 80, loss = 0.06159313\n",
      "Iteration 81, loss = 0.06150984\n",
      "Iteration 82, loss = 0.06157161\n",
      "Iteration 83, loss = 0.06101234\n",
      "Iteration 84, loss = 0.06054670\n",
      "Iteration 85, loss = 0.06086934\n",
      "Iteration 86, loss = 0.06033657\n",
      "Iteration 87, loss = 0.06055539\n",
      "Iteration 88, loss = 0.06022778\n",
      "Iteration 89, loss = 0.05992706\n",
      "Iteration 90, loss = 0.06013228\n",
      "Iteration 91, loss = 0.05943774\n",
      "Iteration 92, loss = 0.05984261\n",
      "Iteration 93, loss = 0.05957097\n",
      "Iteration 94, loss = 0.05925945\n",
      "Iteration 95, loss = 0.05929112\n",
      "Iteration 96, loss = 0.05922859\n",
      "Iteration 97, loss = 0.05876237\n",
      "Iteration 98, loss = 0.05898884\n",
      "Iteration 99, loss = 0.05862282\n",
      "Iteration 100, loss = 0.05835312\n",
      "Iteration 101, loss = 0.05857601\n",
      "Iteration 102, loss = 0.05823041\n",
      "Iteration 103, loss = 0.05828584\n",
      "Iteration 104, loss = 0.05827133\n",
      "Iteration 105, loss = 0.05786514\n",
      "Iteration 106, loss = 0.05801449\n",
      "Iteration 107, loss = 0.05732203\n",
      "Iteration 108, loss = 0.05762159\n",
      "Iteration 109, loss = 0.05750638\n",
      "Iteration 110, loss = 0.05758803\n",
      "Iteration 111, loss = 0.05720343\n",
      "Iteration 112, loss = 0.05716529\n",
      "Iteration 113, loss = 0.05716928\n",
      "Iteration 114, loss = 0.05697538\n",
      "Iteration 115, loss = 0.05717667\n",
      "Iteration 116, loss = 0.05700710\n",
      "Iteration 117, loss = 0.05686970\n",
      "Iteration 118, loss = 0.05671307\n",
      "Iteration 119, loss = 0.05657841\n",
      "Iteration 120, loss = 0.05667360\n",
      "Iteration 121, loss = 0.05638209\n",
      "Iteration 122, loss = 0.05629349\n",
      "Iteration 123, loss = 0.05604981\n",
      "Iteration 124, loss = 0.05593092\n",
      "Iteration 125, loss = 0.05628883\n",
      "Iteration 126, loss = 0.05629453\n",
      "Iteration 127, loss = 0.05599181\n",
      "Iteration 128, loss = 0.05612522\n",
      "Iteration 129, loss = 0.05591742\n",
      "Iteration 130, loss = 0.05580025\n",
      "Iteration 131, loss = 0.05562724\n",
      "Iteration 132, loss = 0.05558101\n",
      "Iteration 133, loss = 0.05552268\n",
      "Iteration 134, loss = 0.05559612\n",
      "Iteration 135, loss = 0.05587166\n",
      "Iteration 136, loss = 0.05540847\n",
      "Iteration 137, loss = 0.05512041\n",
      "Iteration 138, loss = 0.05507830\n",
      "Iteration 139, loss = 0.05522780\n",
      "Iteration 140, loss = 0.05534213\n",
      "Iteration 141, loss = 0.05484691\n",
      "Iteration 142, loss = 0.05476764\n",
      "Iteration 143, loss = 0.05486600\n",
      "Iteration 144, loss = 0.05469266\n",
      "Iteration 145, loss = 0.05475197\n",
      "Iteration 146, loss = 0.05495200\n",
      "Iteration 147, loss = 0.05469680\n",
      "Iteration 148, loss = 0.05442358\n",
      "Iteration 149, loss = 0.05456237\n",
      "Iteration 150, loss = 0.05403554\n",
      "Iteration 151, loss = 0.05439469\n",
      "Iteration 152, loss = 0.05436437\n",
      "Iteration 153, loss = 0.05422855\n",
      "Iteration 154, loss = 0.05413965\n",
      "Iteration 155, loss = 0.05406375\n",
      "Iteration 156, loss = 0.05393476\n",
      "Iteration 157, loss = 0.05423416\n",
      "Iteration 158, loss = 0.05397251\n",
      "Iteration 159, loss = 0.05371451\n",
      "Iteration 160, loss = 0.05387646\n",
      "Iteration 161, loss = 0.05391825\n",
      "Iteration 162, loss = 0.05405362\n",
      "Iteration 163, loss = 0.05328757\n",
      "Iteration 164, loss = 0.05360134\n",
      "Iteration 165, loss = 0.05390305\n",
      "Iteration 166, loss = 0.05377094\n",
      "Iteration 167, loss = 0.05337243\n",
      "Iteration 168, loss = 0.05338057\n",
      "Iteration 169, loss = 0.05300800\n",
      "Iteration 170, loss = 0.05318820\n",
      "Iteration 171, loss = 0.05307884\n",
      "Iteration 172, loss = 0.05322669\n",
      "Iteration 173, loss = 0.05302648\n",
      "Iteration 174, loss = 0.05290289\n",
      "Iteration 175, loss = 0.05284787\n",
      "Iteration 176, loss = 0.05297249\n",
      "Iteration 177, loss = 0.05276081\n",
      "Iteration 178, loss = 0.05316323\n",
      "Iteration 179, loss = 0.05305517\n",
      "Iteration 180, loss = 0.05285077\n",
      "Iteration 181, loss = 0.05277344\n",
      "Iteration 182, loss = 0.05284066\n",
      "Iteration 183, loss = 0.05267370\n",
      "Iteration 184, loss = 0.05247899\n",
      "Iteration 185, loss = 0.05269460\n",
      "Iteration 186, loss = 0.05260478\n",
      "Iteration 187, loss = 0.05280651\n",
      "Iteration 188, loss = 0.05242521\n",
      "Iteration 189, loss = 0.05246676\n",
      "Iteration 190, loss = 0.05265773\n",
      "Iteration 191, loss = 0.05202276\n",
      "Iteration 192, loss = 0.05234305\n",
      "Iteration 193, loss = 0.05229324\n",
      "Iteration 194, loss = 0.05188019\n",
      "Iteration 195, loss = 0.05214699\n",
      "Iteration 196, loss = 0.05211011\n",
      "Iteration 197, loss = 0.05183251\n",
      "Iteration 198, loss = 0.05225359\n",
      "Iteration 199, loss = 0.05203757\n",
      "Iteration 200, loss = 0.05198826\n"
     ]
    },
    {
     "name": "stderr",
     "output_type": "stream",
     "text": [
      "C:\\Users\\kelly\\AppData\\Local\\Continuum\\anaconda3\\lib\\site-packages\\sklearn\\neural_network\\multilayer_perceptron.py:566: ConvergenceWarning: Stochastic Optimizer: Maximum iterations (200) reached and the optimization hasn't converged yet.\n",
      "  % self.max_iter, ConvergenceWarning)\n"
     ]
    },
    {
     "data": {
      "text/plain": [
       "(0.4207650273224044, 0.3888888888888889, 0.4041994750656169)"
      ]
     },
     "execution_count": 68,
     "metadata": {},
     "output_type": "execute_result"
    }
   ],
   "source": [
    "from sklearn.metrics import f1_score\n",
    "from sklearn.neural_network import MLPClassifier\n",
    "\n",
    "mlp = MLPClassifier(solver='adam', alpha=1e-5, activation='relu',\n",
    "                   hidden_layer_sizes=(200,200), random_state=1,max_iter=200, batch_size = 512, verbose=1)                  \n",
    "mlp.fit(X_train_ohe,y_train)\n",
    "y_test_predict=mlp.predict(X_te_ohe)\n",
    "precision_score(y_te,y_test_predict,labels=np.unique(y_te_predict)), recall_score(y_te,y_test_predict,labels=np.unique(y_te_predict)), f1_score(y_te,y_test_predict,labels=np.unique(y_te_predict))"
   ]
  },
  {
   "cell_type": "markdown",
   "metadata": {},
   "source": [
    "# KNN"
   ]
  },
  {
   "cell_type": "code",
   "execution_count": 71,
   "metadata": {},
   "outputs": [
    {
     "data": {
      "text/plain": [
       "(0.46689895470383275, 0.27070707070707073, 0.34271099744245526)"
      ]
     },
     "execution_count": 71,
     "metadata": {},
     "output_type": "execute_result"
    }
   ],
   "source": [
    "from sklearn.neighbors import KNeighborsClassifier\n",
    "\n",
    "neigh = KNeighborsClassifier(n_neighbors=3)\n",
    "neigh.fit(X_train_ohe,y_train)\n",
    "\n",
    "y_test_predict=neigh.predict(X_te_ohe)\n",
    "\n",
    "precision_score(y_te,y_test_predict), recall_score(y_te,y_test_predict), f1_score(y_te,y_test_predict)"
   ]
  }
 ],
 "metadata": {
  "kernelspec": {
   "display_name": "Python 3",
   "language": "python",
   "name": "python3"
  },
  "language_info": {
   "codemirror_mode": {
    "name": "ipython",
    "version": 3
   },
   "file_extension": ".py",
   "mimetype": "text/x-python",
   "name": "python",
   "nbconvert_exporter": "python",
   "pygments_lexer": "ipython3",
   "version": "3.7.4"
  }
 },
 "nbformat": 4,
 "nbformat_minor": 2
}
